{
 "cells": [
  {
   "cell_type": "code",
   "execution_count": null,
   "metadata": {
    "_cell_guid": "b1076dfc-b9ad-4769-8c92-a6c4dae69d19",
    "_uuid": "8f2839f25d086af736a60e9eeb907d3b93b6e0e5"
   },
   "outputs": [],
   "source": [
    "import numpy as np\n",
    "import pandas as pd\n",
    "import matplotlib.pyplot as plt\n",
    "import seaborn as sns"
   ]
  },
  {
   "cell_type": "code",
   "execution_count": null,
   "metadata": {
    "_cell_guid": "79c7e3d0-c299-4dcb-8224-4455121ee9b0",
    "_uuid": "d629ff2d2480ee46fbb7e2d37f6b5fab8052498a"
   },
   "outputs": [],
   "source": [
    "df = pd.read_csv(\"Mall_Customers.csv\")"
   ]
  },
  {
   "cell_type": "code",
   "execution_count": null,
   "metadata": {
    "_uuid": "17e205c03f4ff5eb3a6f0b7a5ad6f499b25a93ad"
   },
   "outputs": [],
   "source": [
    "df.info()"
   ]
  },
  {
   "cell_type": "code",
   "execution_count": null,
   "metadata": {
    "_uuid": "7d6858244cc869f01ff56080416f22c765a5945e"
   },
   "outputs": [],
   "source": [
    "df.columns"
   ]
  },
  {
   "cell_type": "code",
   "execution_count": null,
   "metadata": {
    "_uuid": "6db1f05b3f58a9f4783124f558846ef6ee86f296"
   },
   "outputs": [],
   "source": [
    "# First 5 rows of our data\n",
    "df.head()"
   ]
  },
  {
   "cell_type": "code",
   "execution_count": null,
   "metadata": {
    "_uuid": "ad34e6ddbdf6451f106005a29b9b2c9868d050de"
   },
   "outputs": [],
   "source": [
    "df.drop([\"CustomerID\"], axis = 1, inplace=True)"
   ]
  },
  {
   "cell_type": "code",
   "execution_count": null,
   "metadata": {
    "_uuid": "1de91e8b17b6b4dfecb0ae9b1bccde86052cf61b"
   },
   "outputs": [],
   "source": [
    "plt.figure(figsize=(10,6))\n",
    "plt.title(\"Ages Frequency\")\n",
    "sns.axes_style(\"dark\")\n",
    "sns.violinplot(y=df[\"Age\"])\n",
    "plt.show()"
   ]
  },
  {
   "cell_type": "code",
   "execution_count": null,
   "metadata": {
    "_uuid": "9cb34adb7b7853bcd14b208e4cc8e83e01d1993f"
   },
   "outputs": [],
   "source": [
    "plt.figure(figsize=(15,6))\n",
    "plt.subplot(1,2,1)\n",
    "sns.boxplot(y=df[\"Spending Score (1-100)\"], color=\"red\")\n",
    "plt.subplot(1,2,2)\n",
    "sns.boxplot(y=df[\"Annual Income (k$)\"])\n",
    "plt.show()"
   ]
  },
  {
   "cell_type": "code",
   "execution_count": null,
   "metadata": {
    "_uuid": "8cdf210c21cdb6a741a3da8ef65c9ad2f802b349"
   },
   "outputs": [],
   "source": [
    "genders = df.Gender.value_counts()\n",
    "sns.set_style(\"darkgrid\")\n",
    "plt.figure(figsize=(10,4))\n",
    "sns.barplot(x=genders.index, y=genders.values)\n",
    "plt.show()"
   ]
  },
  {
   "cell_type": "code",
   "execution_count": null,
   "metadata": {
    "_uuid": "83e15cabd1cf5b6f2f04d6c579070625b47a1c31"
   },
   "outputs": [],
   "source": [
    "age18_25 = df.Age[(df.Age <= 25) & (df.Age >= 18)]\n",
    "age26_35 = df.Age[(df.Age <= 35) & (df.Age >= 26)]\n",
    "age36_45 = df.Age[(df.Age <= 45) & (df.Age >= 36)]\n",
    "age46_55 = df.Age[(df.Age <= 55) & (df.Age >= 46)]\n",
    "age55above = df.Age[df.Age >= 56]\n",
    "\n",
    "x = [\"18-25\",\"26-35\",\"36-45\",\"46-55\",\"55+\"]\n",
    "y = [len(age18_25.values),len(age26_35.values),len(age36_45.values),len(age46_55.values),len(age55above.values)]\n",
    "\n",
    "plt.figure(figsize=(15,6))\n",
    "sns.barplot(x=x, y=y, palette=\"rocket\")\n",
    "plt.title(\"Number of Customer and Ages\")\n",
    "plt.xlabel(\"Age\")\n",
    "plt.ylabel(\"Number of Customer\")\n",
    "plt.show()"
   ]
  },
  {
   "cell_type": "code",
   "execution_count": null,
   "metadata": {
    "_uuid": "032932201ad8fab6f91becc9214291cd49b40659"
   },
   "outputs": [],
   "source": [
    "ss1_20 = df[\"Spending Score (1-100)\"][(df[\"Spending Score (1-100)\"] >= 1) & (df[\"Spending Score (1-100)\"] <= 20)]\n",
    "ss21_40 = df[\"Spending Score (1-100)\"][(df[\"Spending Score (1-100)\"] >= 21) & (df[\"Spending Score (1-100)\"] <= 40)]\n",
    "ss41_60 = df[\"Spending Score (1-100)\"][(df[\"Spending Score (1-100)\"] >= 41) & (df[\"Spending Score (1-100)\"] <= 60)]\n",
    "ss61_80 = df[\"Spending Score (1-100)\"][(df[\"Spending Score (1-100)\"] >= 61) & (df[\"Spending Score (1-100)\"] <= 80)]\n",
    "ss81_100 = df[\"Spending Score (1-100)\"][(df[\"Spending Score (1-100)\"] >= 81) & (df[\"Spending Score (1-100)\"] <= 100)]\n",
    "\n",
    "ssx = [\"1-20\", \"21-40\", \"41-60\", \"61-80\", \"81-100\"]\n",
    "ssy = [len(ss1_20.values), len(ss21_40.values), len(ss41_60.values), len(ss61_80.values), len(ss81_100.values)]\n",
    "\n",
    "plt.figure(figsize=(15,6))\n",
    "sns.barplot(x=ssx, y=ssy, palette=\"nipy_spectral_r\")\n",
    "plt.title(\"Spending Scores\")\n",
    "plt.xlabel(\"Score\")\n",
    "plt.ylabel(\"Number of Customer Having the Score\")\n",
    "plt.show()"
   ]
  },
  {
   "cell_type": "code",
   "execution_count": null,
   "metadata": {
    "_uuid": "6b33680ef6036c17d5ef5bcfdfba9a485cea26aa"
   },
   "outputs": [],
   "source": [
    "ai0_30 = df[\"Annual Income (k$)\"][(df[\"Annual Income (k$)\"] >= 0) & (df[\"Annual Income (k$)\"] <= 30)]\n",
    "ai31_60 = df[\"Annual Income (k$)\"][(df[\"Annual Income (k$)\"] >= 31) & (df[\"Annual Income (k$)\"] <= 60)]\n",
    "ai61_90 = df[\"Annual Income (k$)\"][(df[\"Annual Income (k$)\"] >= 61) & (df[\"Annual Income (k$)\"] <= 90)]\n",
    "ai91_120 = df[\"Annual Income (k$)\"][(df[\"Annual Income (k$)\"] >= 91) & (df[\"Annual Income (k$)\"] <= 120)]\n",
    "ai121_150 = df[\"Annual Income (k$)\"][(df[\"Annual Income (k$)\"] >= 121) & (df[\"Annual Income (k$)\"] <= 150)]\n",
    "\n",
    "aix = [\"$ 0 - 30,000\", \"$ 30,001 - 60,000\", \"$ 60,001 - 90,000\", \"$ 90,001 - 120,000\", \"$ 120,001 - 150,000\"]\n",
    "aiy = [len(ai0_30.values), len(ai31_60.values), len(ai61_90.values), len(ai91_120.values), len(ai121_150.values)]\n",
    "\n",
    "plt.figure(figsize=(15,6))\n",
    "sns.barplot(x=aix, y=aiy, palette=\"Set2\")\n",
    "plt.title(\"Annual Incomes\")\n",
    "plt.xlabel(\"Income\")\n",
    "plt.ylabel(\"Number of Customer\")\n",
    "plt.show()"
   ]
  },
  {
   "cell_type": "code",
   "execution_count": null,
   "metadata": {
    "_uuid": "6115689f9376a8e6a02362256ff3c202336d4824"
   },
   "outputs": [],
   "source": [
    "from mpl_toolkits.mplot3d import Axes3D\n",
    "\n",
    "sns.set_style(\"white\")\n",
    "fig = plt.figure(figsize=(20,10))\n",
    "ax = fig.add_subplot(111, projection='3d')\n",
    "ax.scatter(df.Age, df[\"Annual Income (k$)\"], df[\"Spending Score (1-100)\"], c='blue', s=60)\n",
    "ax.view_init(30, 185)\n",
    "plt.xlabel(\"Age\")\n",
    "plt.ylabel(\"Annual Income (k$)\")\n",
    "ax.set_zlabel('Spending Score (1-100)')\n",
    "plt.show()\n"
   ]
  },
  {
   "cell_type": "code",
   "execution_count": null,
   "metadata": {
    "_uuid": "418998d7b293d9d6970fdbacb0894152d2b87894"
   },
   "outputs": [],
   "source": [
    "from sklearn.cluster import KMeans\n",
    "\n",
    "wcss = []\n",
    "for k in range(1,11):\n",
    "    kmeans = KMeans(n_clusters=k, init=\"k-means++\")\n",
    "    kmeans.fit(df.iloc[:,1:])\n",
    "    wcss.append(kmeans.inertia_)\n",
    "plt.figure(figsize=(12,6))    \n",
    "plt.grid()\n",
    "plt.plot(range(1,11),wcss, linewidth=2, color=\"red\", marker =\"8\")\n",
    "plt.xlabel(\"K Value\")\n",
    "plt.xticks(np.arange(1,11,1))\n",
    "plt.ylabel(\"WCSS\")\n",
    "plt.show()"
   ]
  },
  {
   "cell_type": "code",
   "execution_count": null,
   "metadata": {
    "_uuid": "d674b3a70c1d66ba76e7cdf6385313036cbe7a4b"
   },
   "outputs": [],
   "source": [
    "km = KMeans(n_clusters=5)\n",
    "clusters = km.fit_predict(df.iloc[:,1:])\n",
    "\n",
    "df[\"label\"] = clusters\n",
    "\n",
    "from mpl_toolkits.mplot3d import Axes3D\n",
    "import matplotlib.pyplot as plt\n",
    "import numpy as np\n",
    "import pandas as pd\n",
    " \n",
    "\n",
    "fig = plt.figure(figsize=(20,10))\n",
    "ax = fig.add_subplot(111, projection='3d')\n",
    "ax.scatter(df.Age[df.label == 0], df[\"Annual Income (k$)\"][df.label == 0], df[\"Spending Score (1-100)\"][df.label == 0], c='blue', s=60)\n",
    "ax.scatter(df.Age[df.label == 1], df[\"Annual Income (k$)\"][df.label == 1], df[\"Spending Score (1-100)\"][df.label == 1], c='red', s=60)\n",
    "ax.scatter(df.Age[df.label == 2], df[\"Annual Income (k$)\"][df.label == 2], df[\"Spending Score (1-100)\"][df.label == 2], c='green', s=60)\n",
    "ax.scatter(df.Age[df.label == 3], df[\"Annual Income (k$)\"][df.label == 3], df[\"Spending Score (1-100)\"][df.label == 3], c='orange', s=60)\n",
    "ax.scatter(df.Age[df.label == 4], df[\"Annual Income (k$)\"][df.label == 4], df[\"Spending Score (1-100)\"][df.label == 4], c='purple', s=60)\n",
    "ax.view_init(30, 185)\n",
    "plt.xlabel(\"Age\")\n",
    "plt.ylabel(\"Annual Income (k$)\")\n",
    "ax.set_zlabel('Spending Score (1-100)')\n",
    "plt.show()"
   ]
  },
  {
   "cell_type": "code",
   "execution_count": null,
   "metadata": {},
   "outputs": [],
   "source": []
  }
 ],
 "metadata": {
  "kernelspec": {
   "display_name": "Python 3",
   "language": "python",
   "name": "python3"
  },
  "language_info": {
   "codemirror_mode": {
    "name": "ipython",
    "version": 3
   },
   "file_extension": ".py",
   "mimetype": "text/x-python",
   "name": "python",
   "nbconvert_exporter": "python",
   "pygments_lexer": "ipython3",
   "version": "3.7.2"
  }
 },
 "nbformat": 4,
 "nbformat_minor": 1
}
